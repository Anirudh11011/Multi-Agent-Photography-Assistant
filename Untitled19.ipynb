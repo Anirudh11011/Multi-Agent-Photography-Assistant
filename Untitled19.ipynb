{
  "nbformat": 4,
  "nbformat_minor": 0,
  "metadata": {
    "colab": {
      "provenance": []
    },
    "kernelspec": {
      "name": "python3",
      "display_name": "Python 3"
    },
    "language_info": {
      "name": "python"
    }
  },
  "cells": [
    {
      "cell_type": "code",
      "execution_count": 14,
      "metadata": {
        "colab": {
          "base_uri": "https://localhost:8080/"
        },
        "id": "zv6CcTjvxor7",
        "outputId": "b6b9f88d-7e3b-499e-f46f-47cbef52b1a3"
      },
      "outputs": [
        {
          "output_type": "stream",
          "name": "stdout",
          "text": [
            "Collecting langchain-community\n",
            "  Downloading langchain_community-0.3.24-py3-none-any.whl.metadata (2.5 kB)\n",
            "Requirement already satisfied: langchain-core<1.0.0,>=0.3.59 in /usr/local/lib/python3.11/dist-packages (from langchain-community) (0.3.63)\n",
            "Requirement already satisfied: langchain<1.0.0,>=0.3.25 in /usr/local/lib/python3.11/dist-packages (from langchain-community) (0.3.25)\n",
            "Requirement already satisfied: SQLAlchemy<3,>=1.4 in /usr/local/lib/python3.11/dist-packages (from langchain-community) (2.0.41)\n",
            "Requirement already satisfied: requests<3,>=2 in /usr/local/lib/python3.11/dist-packages (from langchain-community) (2.32.3)\n",
            "Requirement already satisfied: PyYAML>=5.3 in /usr/local/lib/python3.11/dist-packages (from langchain-community) (6.0.2)\n",
            "Requirement already satisfied: aiohttp<4.0.0,>=3.8.3 in /usr/local/lib/python3.11/dist-packages (from langchain-community) (3.11.15)\n",
            "Requirement already satisfied: tenacity!=8.4.0,<10,>=8.1.0 in /usr/local/lib/python3.11/dist-packages (from langchain-community) (9.1.2)\n",
            "Collecting dataclasses-json<0.7,>=0.5.7 (from langchain-community)\n",
            "  Downloading dataclasses_json-0.6.7-py3-none-any.whl.metadata (25 kB)\n",
            "Collecting pydantic-settings<3.0.0,>=2.4.0 (from langchain-community)\n",
            "  Downloading pydantic_settings-2.9.1-py3-none-any.whl.metadata (3.8 kB)\n",
            "Requirement already satisfied: langsmith<0.4,>=0.1.125 in /usr/local/lib/python3.11/dist-packages (from langchain-community) (0.3.43)\n",
            "Collecting httpx-sse<1.0.0,>=0.4.0 (from langchain-community)\n",
            "  Downloading httpx_sse-0.4.0-py3-none-any.whl.metadata (9.0 kB)\n",
            "Requirement already satisfied: numpy>=1.26.2 in /usr/local/lib/python3.11/dist-packages (from langchain-community) (2.0.2)\n",
            "Requirement already satisfied: aiohappyeyeballs>=2.3.0 in /usr/local/lib/python3.11/dist-packages (from aiohttp<4.0.0,>=3.8.3->langchain-community) (2.6.1)\n",
            "Requirement already satisfied: aiosignal>=1.1.2 in /usr/local/lib/python3.11/dist-packages (from aiohttp<4.0.0,>=3.8.3->langchain-community) (1.3.2)\n",
            "Requirement already satisfied: attrs>=17.3.0 in /usr/local/lib/python3.11/dist-packages (from aiohttp<4.0.0,>=3.8.3->langchain-community) (25.3.0)\n",
            "Requirement already satisfied: frozenlist>=1.1.1 in /usr/local/lib/python3.11/dist-packages (from aiohttp<4.0.0,>=3.8.3->langchain-community) (1.6.0)\n",
            "Requirement already satisfied: multidict<7.0,>=4.5 in /usr/local/lib/python3.11/dist-packages (from aiohttp<4.0.0,>=3.8.3->langchain-community) (6.4.4)\n",
            "Requirement already satisfied: propcache>=0.2.0 in /usr/local/lib/python3.11/dist-packages (from aiohttp<4.0.0,>=3.8.3->langchain-community) (0.3.1)\n",
            "Requirement already satisfied: yarl<2.0,>=1.17.0 in /usr/local/lib/python3.11/dist-packages (from aiohttp<4.0.0,>=3.8.3->langchain-community) (1.20.0)\n",
            "Collecting marshmallow<4.0.0,>=3.18.0 (from dataclasses-json<0.7,>=0.5.7->langchain-community)\n",
            "  Downloading marshmallow-3.26.1-py3-none-any.whl.metadata (7.3 kB)\n",
            "Collecting typing-inspect<1,>=0.4.0 (from dataclasses-json<0.7,>=0.5.7->langchain-community)\n",
            "  Downloading typing_inspect-0.9.0-py3-none-any.whl.metadata (1.5 kB)\n",
            "Requirement already satisfied: langchain-text-splitters<1.0.0,>=0.3.8 in /usr/local/lib/python3.11/dist-packages (from langchain<1.0.0,>=0.3.25->langchain-community) (0.3.8)\n",
            "Requirement already satisfied: pydantic<3.0.0,>=2.7.4 in /usr/local/lib/python3.11/dist-packages (from langchain<1.0.0,>=0.3.25->langchain-community) (2.11.5)\n",
            "Requirement already satisfied: jsonpatch<2.0,>=1.33 in /usr/local/lib/python3.11/dist-packages (from langchain-core<1.0.0,>=0.3.59->langchain-community) (1.33)\n",
            "Requirement already satisfied: packaging<25,>=23.2 in /usr/local/lib/python3.11/dist-packages (from langchain-core<1.0.0,>=0.3.59->langchain-community) (24.2)\n",
            "Requirement already satisfied: typing-extensions>=4.7 in /usr/local/lib/python3.11/dist-packages (from langchain-core<1.0.0,>=0.3.59->langchain-community) (4.13.2)\n",
            "Requirement already satisfied: httpx<1,>=0.23.0 in /usr/local/lib/python3.11/dist-packages (from langsmith<0.4,>=0.1.125->langchain-community) (0.28.1)\n",
            "Requirement already satisfied: orjson<4.0.0,>=3.9.14 in /usr/local/lib/python3.11/dist-packages (from langsmith<0.4,>=0.1.125->langchain-community) (3.10.18)\n",
            "Requirement already satisfied: requests-toolbelt<2.0.0,>=1.0.0 in /usr/local/lib/python3.11/dist-packages (from langsmith<0.4,>=0.1.125->langchain-community) (1.0.0)\n",
            "Requirement already satisfied: zstandard<0.24.0,>=0.23.0 in /usr/local/lib/python3.11/dist-packages (from langsmith<0.4,>=0.1.125->langchain-community) (0.23.0)\n",
            "Collecting python-dotenv>=0.21.0 (from pydantic-settings<3.0.0,>=2.4.0->langchain-community)\n",
            "  Downloading python_dotenv-1.1.0-py3-none-any.whl.metadata (24 kB)\n",
            "Requirement already satisfied: typing-inspection>=0.4.0 in /usr/local/lib/python3.11/dist-packages (from pydantic-settings<3.0.0,>=2.4.0->langchain-community) (0.4.1)\n",
            "Requirement already satisfied: charset-normalizer<4,>=2 in /usr/local/lib/python3.11/dist-packages (from requests<3,>=2->langchain-community) (3.4.2)\n",
            "Requirement already satisfied: idna<4,>=2.5 in /usr/local/lib/python3.11/dist-packages (from requests<3,>=2->langchain-community) (3.10)\n",
            "Requirement already satisfied: urllib3<3,>=1.21.1 in /usr/local/lib/python3.11/dist-packages (from requests<3,>=2->langchain-community) (2.4.0)\n",
            "Requirement already satisfied: certifi>=2017.4.17 in /usr/local/lib/python3.11/dist-packages (from requests<3,>=2->langchain-community) (2025.4.26)\n",
            "Requirement already satisfied: greenlet>=1 in /usr/local/lib/python3.11/dist-packages (from SQLAlchemy<3,>=1.4->langchain-community) (3.2.2)\n",
            "Requirement already satisfied: anyio in /usr/local/lib/python3.11/dist-packages (from httpx<1,>=0.23.0->langsmith<0.4,>=0.1.125->langchain-community) (4.9.0)\n",
            "Requirement already satisfied: httpcore==1.* in /usr/local/lib/python3.11/dist-packages (from httpx<1,>=0.23.0->langsmith<0.4,>=0.1.125->langchain-community) (1.0.9)\n",
            "Requirement already satisfied: h11>=0.16 in /usr/local/lib/python3.11/dist-packages (from httpcore==1.*->httpx<1,>=0.23.0->langsmith<0.4,>=0.1.125->langchain-community) (0.16.0)\n",
            "Requirement already satisfied: jsonpointer>=1.9 in /usr/local/lib/python3.11/dist-packages (from jsonpatch<2.0,>=1.33->langchain-core<1.0.0,>=0.3.59->langchain-community) (3.0.0)\n",
            "Requirement already satisfied: annotated-types>=0.6.0 in /usr/local/lib/python3.11/dist-packages (from pydantic<3.0.0,>=2.7.4->langchain<1.0.0,>=0.3.25->langchain-community) (0.7.0)\n",
            "Requirement already satisfied: pydantic-core==2.33.2 in /usr/local/lib/python3.11/dist-packages (from pydantic<3.0.0,>=2.7.4->langchain<1.0.0,>=0.3.25->langchain-community) (2.33.2)\n",
            "Collecting mypy-extensions>=0.3.0 (from typing-inspect<1,>=0.4.0->dataclasses-json<0.7,>=0.5.7->langchain-community)\n",
            "  Downloading mypy_extensions-1.1.0-py3-none-any.whl.metadata (1.1 kB)\n",
            "Requirement already satisfied: sniffio>=1.1 in /usr/local/lib/python3.11/dist-packages (from anyio->httpx<1,>=0.23.0->langsmith<0.4,>=0.1.125->langchain-community) (1.3.1)\n",
            "Downloading langchain_community-0.3.24-py3-none-any.whl (2.5 MB)\n",
            "\u001b[2K   \u001b[90m━━━━━━━━━━━━━━━━━━━━━━━━━━━━━━━━━━━━━━━━\u001b[0m \u001b[32m2.5/2.5 MB\u001b[0m \u001b[31m38.2 MB/s\u001b[0m eta \u001b[36m0:00:00\u001b[0m\n",
            "\u001b[?25hDownloading dataclasses_json-0.6.7-py3-none-any.whl (28 kB)\n",
            "Downloading httpx_sse-0.4.0-py3-none-any.whl (7.8 kB)\n",
            "Downloading pydantic_settings-2.9.1-py3-none-any.whl (44 kB)\n",
            "\u001b[2K   \u001b[90m━━━━━━━━━━━━━━━━━━━━━━━━━━━━━━━━━━━━━━━━\u001b[0m \u001b[32m44.4/44.4 kB\u001b[0m \u001b[31m2.8 MB/s\u001b[0m eta \u001b[36m0:00:00\u001b[0m\n",
            "\u001b[?25hDownloading marshmallow-3.26.1-py3-none-any.whl (50 kB)\n",
            "\u001b[2K   \u001b[90m━━━━━━━━━━━━━━━━━━━━━━━━━━━━━━━━━━━━━━━━\u001b[0m \u001b[32m50.9/50.9 kB\u001b[0m \u001b[31m3.0 MB/s\u001b[0m eta \u001b[36m0:00:00\u001b[0m\n",
            "\u001b[?25hDownloading python_dotenv-1.1.0-py3-none-any.whl (20 kB)\n",
            "Downloading typing_inspect-0.9.0-py3-none-any.whl (8.8 kB)\n",
            "Downloading mypy_extensions-1.1.0-py3-none-any.whl (5.0 kB)\n",
            "Installing collected packages: python-dotenv, mypy-extensions, marshmallow, httpx-sse, typing-inspect, pydantic-settings, dataclasses-json, langchain-community\n",
            "Successfully installed dataclasses-json-0.6.7 httpx-sse-0.4.0 langchain-community-0.3.24 marshmallow-3.26.1 mypy-extensions-1.1.0 pydantic-settings-2.9.1 python-dotenv-1.1.0 typing-inspect-0.9.0\n"
          ]
        }
      ],
      "source": [
        "!pip install -U langchain-community\n",
        "\n"
      ]
    },
    {
      "cell_type": "code",
      "source": [
        "from typing import Annotated\n",
        "import os"
      ],
      "metadata": {
        "id": "2ZdrZvLQ2xrb"
      },
      "execution_count": 17,
      "outputs": []
    },
    {
      "cell_type": "code",
      "source": [
        "import os\n",
        "os.environ[\"GROQ_API_KEY\"] = \"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\""
      ],
      "metadata": {
        "id": "yqVfV3j73x5v"
      },
      "execution_count": 18,
      "outputs": []
    },
    {
      "cell_type": "code",
      "source": [
        "if \"GROQ_API_KEY\" not in os.environ:\n",
        "    raise RuntimeError(\"Please set the GROQ_API_KEY environment variable before running.\")"
      ],
      "metadata": {
        "id": "Ybd5nXI-15yq"
      },
      "execution_count": 19,
      "outputs": []
    },
    {
      "cell_type": "code",
      "source": [
        "from typing import Annotated\n",
        "from langchain_core.tools import tool, InjectedToolCallId\n",
        "from langgraph.prebuilt import InjectedState\n",
        "\n",
        "# ← UPDATED!\n",
        "from langgraph.graph import MessagesState\n",
        "from langgraph.types import Command\n",
        "\n",
        "from langgraph.graph import StateGraph, START, END"
      ],
      "metadata": {
        "id": "LNkyB1hqxxsO"
      },
      "execution_count": 24,
      "outputs": []
    },
    {
      "cell_type": "code",
      "source": [
        "from langchain_groq.chat_models import ChatGroq\n",
        "\n",
        "groq_model = ChatGroq(\n",
        "    model=\"llama-3.1-8b-instant\",  # ← replace with your actual Groq model ID\n",
        "    temperature=0.5,\n",
        "    max_tokens=None,\n",
        "    # api_key=os.environ[\"GROQ_API_KEY\"]  # Not needed if env var is already set\n",
        ")"
      ],
      "metadata": {
        "id": "bT5m7XEK4xnF"
      },
      "execution_count": 25,
      "outputs": []
    },
    {
      "cell_type": "code",
      "source": [
        "from typing import Annotated\n",
        "from langchain_core.tools import tool, InjectedToolCallId\n",
        "from langgraph.prebuilt import InjectedState\n",
        "\n",
        "# MessagesState still comes from langgraph.graph\n",
        "from langgraph.graph import MessagesState\n",
        "\n",
        "# Command now lives in langgraph.types (not langgraph.graph)\n",
        "from langgraph.types import Command\n",
        "\n",
        "def create_handoff_tool(*, agent_name: str, description: str | None = None):\n",
        "    \"\"\"\n",
        "    Returns a LangChain-Core Tool that, when invoked, emits a Command\n",
        "    telling LangGraph to 'goto=<agent_name>' and append a 'tool' message.\n",
        "    \"\"\"\n",
        "    tool_name = f\"transfer_to_{agent_name}\"\n",
        "    desc = description or f\"Hand off to {agent_name}.\"\n",
        "\n",
        "    # 1) Define the inner Python function that actually returns a Command.\n",
        "    def handoff_inner(\n",
        "        state: Annotated[MessagesState, InjectedState],\n",
        "        tool_call_id: Annotated[str, InjectedToolCallId],\n",
        "    ) -> Command:\n",
        "        tool_message = {\n",
        "            \"role\": \"tool\",\n",
        "            \"content\": f\"Transferring to {agent_name} for further handling.\",\n",
        "            \"name\": tool_name,\n",
        "            \"tool_call_id\": tool_call_id,\n",
        "        }\n",
        "        return Command(\n",
        "            goto=agent_name,  # jump to that agent node in the graph\n",
        "            update={**state, \"messages\": state[\"messages\"] + [tool_message]},\n",
        "            graph=Command.PARENT,  # after that agent runs, return to supervisor\n",
        "        )\n",
        "\n",
        "    # 2) Assign the function's __name__ to the desired tool name,\n",
        "    #    so that the Tool registry will pick up the correct name.\n",
        "    handoff_inner.__name__ = tool_name\n",
        "\n",
        "    # 3) Decorate with @tool(description=…), _without_ passing name=…,\n",
        "    #    because this version of `@tool` does not accept a name= argument.\n",
        "    decorated_tool = tool(description=desc)(handoff_inner)\n",
        "    return decorated_tool\n",
        "\n",
        "# Now instantiate the two tools:\n",
        "assign_to_scenario_agent = create_handoff_tool(\n",
        "    agent_name=\"scenario_analysis_agent\",\n",
        "    description=\"Analyze the shooting scenario and return context.\",\n",
        ")\n",
        "\n",
        "assign_to_specs_agent = create_handoff_tool(\n",
        "    agent_name=\"camera_specs_agent\",\n",
        "    description=\"Given the scenario, provide DSLR settings.\",\n",
        ")\n"
      ],
      "metadata": {
        "id": "MdI0m_E4ykZM"
      },
      "execution_count": 34,
      "outputs": []
    },
    {
      "cell_type": "code",
      "source": [
        "from langgraph.prebuilt.chat_agent_executor import create_react_agent"
      ],
      "metadata": {
        "id": "3iXrztnr1Tf-"
      },
      "execution_count": 28,
      "outputs": []
    },
    {
      "cell_type": "code",
      "source": [
        "supervisor_agent = create_react_agent(\n",
        "    model=groq_model,\n",
        "    tools=[assign_to_scenario_agent, assign_to_specs_agent],\n",
        "    prompt=(\n",
        "        \"You are a photography supervisor. You manage two agents:\\n\"\n",
        "        \"- scenario_analysis_agent: analyze a photography scenario (lighting, motion, environment).\\n\"\n",
        "        \"- camera_specs_agent: given a scenario, provide exact DSLR settings (lens, ISO, shutter speed, aperture).\\n\"\n",
        "        \"When the user gives input, decide which agent to call—do not answer yourself.\\n\"\n",
        "        \"Use exactly one handoff tool per turn: either transfer_to_scenario_analysis_agent \"\n",
        "        \"or transfer_to_camera_specs_agent.\\n\"\n",
        "        \"After that worker finishes, control returns here automatically.\\n\"\n",
        "        \"Do NOT do scenario analysis or give settings yourself—only hand off.\"\n",
        "    ),\n",
        "    name=\"supervisor\",\n",
        ")\n"
      ],
      "metadata": {
        "id": "px30hKUT1XBt"
      },
      "execution_count": 35,
      "outputs": []
    },
    {
      "cell_type": "code",
      "source": [
        "scenario_analysis_agent = create_react_agent(\n",
        "    model=groq_model,\n",
        "    tools=[],  # this worker never calls other tools\n",
        "    prompt=(\n",
        "        \"You are scenario_analysis_agent.\\n\"\n",
        "        \"Your job: Given a photography scenario (e.g. “shooting a hummingbird at dawn in low light”),\\n\"\n",
        "        \"analyze the environment, lighting conditions, subject motion, and dynamic range challenges.\\n\"\n",
        "        \"Do NOT supply camera settings—only describe what a photographer should watch out for.\"\n",
        "    ),\n",
        "    name=\"scenario_analysis_agent\",\n",
        ")"
      ],
      "metadata": {
        "id": "XNJuU2wD1Zcf"
      },
      "execution_count": 36,
      "outputs": []
    },
    {
      "cell_type": "code",
      "source": [
        "camera_specs_agent = create_react_agent(\n",
        "    model=groq_model,\n",
        "    tools=[],\n",
        "    prompt=(\n",
        "        \"You are camera_specs_agent.\\n\"\n",
        "        \"Your job: Given a photographer’s scenario or prior analysis, provide a complete DSLR configuration:\\n\"\n",
        "        \"- Lens (e.g. 24-70mm f/2.8)\\n\"\n",
        "        \"- Aperture\\n\"\n",
        "        \"- Shutter Speed\\n\"\n",
        "        \"- ISO\\n\"\n",
        "        \"- White Balance\\n\"\n",
        "        \"- Autofocus Mode (e.g. AI-Servo single-point)\\n\"\n",
        "        \"Be as precise as possible. Assume a full-frame DSLR by default.\"\n",
        "    ),\n",
        "    name=\"camera_specs_agent\",\n",
        ")"
      ],
      "metadata": {
        "id": "yvxsM2VF1bRx"
      },
      "execution_count": 37,
      "outputs": []
    },
    {
      "cell_type": "code",
      "source": [
        "supervisor_graph = (\n",
        "    StateGraph(MessagesState)\n",
        "    .add_node(\n",
        "        supervisor_agent,\n",
        "        destinations=(\"scenario_analysis_agent\", \"camera_specs_agent\", END),\n",
        "    )\n",
        "    .add_node(scenario_analysis_agent)\n",
        "    .add_node(camera_specs_agent)\n",
        "    .add_edge(START, \"supervisor\")\n",
        "    .add_edge(\"scenario_analysis_agent\", \"supervisor\")\n",
        "    .add_edge(\"camera_specs_agent\", \"supervisor\")\n",
        "    .compile()\n",
        ")\n"
      ],
      "metadata": {
        "id": "3ocOpEAY6N3u"
      },
      "execution_count": 38,
      "outputs": []
    },
    {
      "cell_type": "code",
      "source": [
        "# ─────────────────────────────────────────────────────────\n",
        "# Cell: Stream and “manually” print both dicts and AIMessage objects\n",
        "# ─────────────────────────────────────────────────────────\n",
        "\n",
        "print(\"\\n=== Streaming a Sample Prompt (robust manual print) ===\\n\")\n",
        "\n",
        "# Initialize a variable to hold the very last assistant output (if you need it later)\n",
        "final_assistant_output = None\n",
        "\n",
        "for chunk in supervisor_graph.stream(\n",
        "    {\n",
        "        \"messages\": [\n",
        "            {\n",
        "                \"role\": \"user\",\n",
        "                \"content\": (\n",
        "                    \"I want to photograph a surfer at sunset in low light. \"\n",
        "                    \"What lens and settings should I use?\"\n",
        "                ),\n",
        "            }\n",
        "        ]\n",
        "    }\n",
        "):\n",
        "    # Each chunk is a dict whose key is the name of the agent (or 'tool') that just produced output.\n",
        "    # Example keys might be [\"supervisor\"] for the tool message, then [\"camera_specs_agent\"] for the actual specs.\n",
        "    present_keys = list(chunk.keys())\n",
        "    print(f\"Chunk produced by: {present_keys}\\n\")\n",
        "\n",
        "    # Iterate over each key→payload pair (usually there's only one key per chunk)\n",
        "    for agent_name, agent_payload in chunk.items():\n",
        "        # We expect agent_payload to be a dict containing a \"messages\" list\n",
        "        if not (isinstance(agent_payload, dict) and \"messages\" in agent_payload):\n",
        "            print(f\"  (Skipping payload for {agent_name}: {agent_payload})\\n\")\n",
        "            continue\n",
        "\n",
        "        history = agent_payload[\"messages\"]\n",
        "        if not history:\n",
        "            print(f\"  ({agent_name} has an empty message history)\\n\")\n",
        "            continue\n",
        "\n",
        "        last_msg = history[-1]\n",
        "\n",
        "        # If it's a plain dict (e.g. {'role':..., 'content':...}), pull out keys directly:\n",
        "        if isinstance(last_msg, dict):\n",
        "            role = last_msg.get(\"role\", \"<unknown>\")\n",
        "            content = last_msg.get(\"content\", \"\")\n",
        "        else:\n",
        "            # It's likely an AIMessage or HumanMessage (or similar LangChain BaseMessage).\n",
        "            # Try to grab .role first; if not present, fall back to .type (or use \"<assistant>\" as default).\n",
        "            role = getattr(last_msg, \"role\", None) or getattr(last_msg, \"type\", \"<assistant>\")\n",
        "            # The message’s text is in .content\n",
        "            content = getattr(last_msg, \"content\", str(last_msg))\n",
        "\n",
        "        print(f\"{agent_name} → {role}:\\n{content}\\n---\\n\")\n",
        "\n",
        "        # If this is an assistant response, remember it\n",
        "        if role.lower() in (\"assistant\", \"ai\", \"tool\"):  # adjust as needed\n",
        "            final_assistant_output = content\n",
        "\n",
        "# After the loop, `final_assistant_output` holds the last assistant (or tool) content, if you need it.\n",
        "print(\"✅ Streaming complete.\")\n",
        "print(\"Final assistant output (if any):\")\n",
        "print(final_assistant_output)\n"
      ],
      "metadata": {
        "colab": {
          "base_uri": "https://localhost:8080/"
        },
        "id": "GCDueGGw6VbB",
        "outputId": "89e8359d-8d71-4cca-dfbc-c896b937e36f"
      },
      "execution_count": 47,
      "outputs": [
        {
          "output_type": "stream",
          "name": "stdout",
          "text": [
            "\n",
            "=== Streaming a Sample Prompt (robust manual print) ===\n",
            "\n",
            "Chunk produced by: ['supervisor']\n",
            "\n",
            "supervisor → tool:\n",
            "Transferring to camera_specs_agent for further handling.\n",
            "---\n",
            "\n",
            "Chunk produced by: ['camera_specs_agent']\n",
            "\n",
            "camera_specs_agent → ai:\n",
            "Given a surfer at sunset in low light, I would recommend the following DSLR configuration:\n",
            "\n",
            "**Lens:** 70-200mm f/2.8 (telephoto lens with a wide aperture for low-light conditions and to compress the perspective and isolate the subject)\n",
            "\n",
            "**Aperture:** f/2.8 (wide aperture to let in as much light as possible and create a shallow depth of field to separate the surfer from the background)\n",
            "\n",
            "**Shutter Speed:** 1/125s (fast enough to freeze the surfer's motion, but slow enough to capture some of the motion blur in the water and the soft, warm light of the sunset)\n",
            "\n",
            "**ISO:** 800 (high enough to capture the low light, but not so high that it introduces excessive noise)\n",
            "\n",
            "**White Balance:** Cloudy (or Shade) (to capture the warm, golden tones of the sunset)\n",
            "\n",
            "**Autofocus Mode:** AI-Servo single-point (to track the surfer's movement and maintain focus on the subject)\n",
            "\n",
            "This configuration should help you capture a stunning image of the surfer at sunset in low light.\n",
            "---\n",
            "\n",
            "Chunk produced by: ['supervisor']\n",
            "\n",
            "supervisor → ai:\n",
            "\n",
            "---\n",
            "\n",
            "✅ Streaming complete.\n",
            "Final assistant output (if any):\n",
            "\n"
          ]
        }
      ]
    }
  ]
}